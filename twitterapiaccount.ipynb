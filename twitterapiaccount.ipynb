{
  "cells": [
    {
      "cell_type": "code",
      "execution_count": null,
      "metadata": {
        "id": "X8bRsVp767xc"
      },
      "outputs": [],
      "source": [
        "from google.colab import drive\n",
        "drive.mount('/content/drive')"
      ]
    },
    {
      "cell_type": "code",
      "execution_count": null,
      "metadata": {
        "colab": {
          "base_uri": "https://localhost:8080/"
        },
        "id": "DSFmsgVt7qPE",
        "outputId": "999b499e-d3c8-4ada-cb81-ed7c33e46f8d"
      },
      "outputs": [
        {
          "name": "stdout",
          "output_type": "stream",
          "text": [
            "Looking in indexes: https://pypi.org/simple, https://us-python.pkg.dev/colab-wheels/public/simple/\n",
            "Collecting better_profanity\n",
            "  Downloading better_profanity-0.7.0-py3-none-any.whl (46 kB)\n",
            "\u001b[K     |████████████████████████████████| 46 kB 2.1 MB/s \n",
            "\u001b[?25hInstalling collected packages: better-profanity\n",
            "Successfully installed better-profanity-0.7.0\n"
          ]
        },
        {
          "name": "stderr",
          "output_type": "stream",
          "text": [
            "[nltk_data] Downloading package punkt to /root/nltk_data...\n",
            "[nltk_data]   Unzipping tokenizers/punkt.zip.\n",
            "[nltk_data] Downloading package stopwords to /root/nltk_data...\n",
            "[nltk_data]   Unzipping corpora/stopwords.zip.\n",
            "[nltk_data] Downloading package wordnet to /root/nltk_data...\n",
            "[nltk_data] Downloading package omw-1.4 to /root/nltk_data...\n"
          ]
        }
      ],
      "source": [
        "!pip install better_profanity  \n",
        "import nltk\n",
        "\n",
        "nltk.download('punkt')\n",
        "nltk.download('stopwords')\n",
        "nltk.download('wordnet')\n",
        "nltk.download('omw-1.4')\n",
        "\n",
        "\n",
        "\n",
        "RAW_INPUT_TRAINING_DATA = \"/content/drive/MyDrive/twitterapiaccount/dataset_combined_2510_new.csv\"\n",
        "\n",
        "\n",
        "\n",
        "USER_TWEET_DATA_FILE = \"user_tweets.csv\" \n",
        "PREPROCESSED_INPUT_TRAINING_DATA = \"preprocessed_input_data.csv\"\n",
        "MODEL_FILE = \"model.pkl\"\n",
        "VECTORIZER_FILE = \"vectorizer.pkl\"\n",
        "\n"
      ]
    },
    {
      "cell_type": "code",
      "execution_count": null,
      "metadata": {
        "colab": {
          "base_uri": "https://localhost:8080/"
        },
        "id": "U70IHhO37qR2",
        "outputId": "9624348d-4eee-44bd-8a80-ee84997ababd"
      },
      "outputs": [
        {
          "name": "stdout",
          "output_type": "stream",
          "text": [
            "   index                                              tweet depressed\n",
            "0  10197  soooo sunburnt mum earlier wait get fell aslee...        NO\n",
            "1  24592  even get suicid didnt answer show told viewer ...       YES\n",
            "       index                                              tweet depressed\n",
            "37865  26162  got rob laptop award first year achiev year th...       YES\n",
            "37866  23082  retweet your either gay depress horni hungri l...       YES\n",
            "YES    23012\n",
            "NO     14855\n",
            "Name: depressed, dtype: int64\n"
          ]
        }
      ],
      "source": [
        "\n",
        "#DATA CLEANING: Vectorizer AND NLP\n",
        "\n",
        "import pandas as pd\n",
        "import numpy as np\n",
        "import matplotlib.pyplot as plt\n",
        "%matplotlib inline\n",
        "\n",
        "import re\n",
        "from sklearn.feature_extraction.text import TfidfVectorizer\n",
        "\n",
        "#importing nlp packages\n",
        "from nltk import stem\n",
        "from nltk.corpus import stopwords\n",
        "stemmer = stem.SnowballStemmer('english')\n",
        "stopwords = set(stopwords.words('english'))\n",
        "\n",
        "\n",
        "#removing the special characters and numbers and url\n",
        "def keep_alpha(s): \n",
        "#     s = row['content']\n",
        "    non_url = re.sub(r\"http\\S+\", \"\", s)\n",
        "    res = re.sub('[^a-zA-Z\\s]', '', non_url)\n",
        "    res1 = re.sub('\\n', '', res)\n",
        "    return res1\n",
        "\n",
        "def nlp_preprocessing(msg):\n",
        "    try:\n",
        "        # converting messages to lowercase\n",
        "        msg = msg.lower()\n",
        "        # removing stopwords\n",
        "        msg = [word for word in msg.split() if word not in stopwords]\n",
        "        # using a stemmer (getting root form of each word of each row)\n",
        "        msg = \" \".join([stemmer.stem(word) for word in msg])\n",
        "        \n",
        "    except Exception as e:\n",
        "        print(e)\n",
        "\n",
        "    return msg\n",
        "\n",
        "\n",
        "df=pd.read_csv(RAW_INPUT_TRAINING_DATA)\n",
        "df.rename(columns = {'Text':'tweet'}, inplace = True)\n",
        "df = df.dropna()\n",
        "df = df.sample(frac=1).reset_index()\n",
        "#df = df.sample(frac=0.1).reset_index()\n",
        "\n",
        "\n",
        "# data preprocessing using NLP : nltk\n",
        "df['tweet'] = df['tweet'].astype(str)\n",
        "#remove leading and ending whitespaces\n",
        "df['tweet'] = df['tweet'].str.strip()\n",
        "\n",
        "# keep only alphabets\n",
        "df['tweet'] = df['tweet'].apply(keep_alpha)\n",
        "\n",
        "# nlp preprocessing to remove stopwords and get base/stem form of each word\n",
        "df['tweet'] = df['tweet'].apply(nlp_preprocessing)\n",
        "print(df.head(2))\n",
        "print(df.tail(2))\n",
        "\n",
        "\n",
        "print(df['depressed'].value_counts())\n",
        "\n",
        "# df.to_csv(\"data//preprocessed_input_data.csv\", index=False)\n",
        "df.to_csv(PREPROCESSED_INPUT_TRAINING_DATA, index=False)\n",
        "\n",
        "\n"
      ]
    },
    {
      "cell_type": "code",
      "execution_count": null,
      "metadata": {
        "colab": {
          "background_save": true,
          "base_uri": "https://localhost:8080/"
        },
        "id": "zW_UfmPz7qUx",
        "outputId": "ab74b338-8c46-446d-e307-25390b76e16b"
      },
      "outputs": [
        {
          "name": "stdout",
          "output_type": "stream",
          "text": [
            "   index                                              tweet depressed\n",
            "0  10197  soooo sunburnt mum earlier wait get fell aslee...        NO\n",
            "1  24592  even get suicid didnt answer show told viewer ...       YES\n",
            "2    993                                            depress       YES\n",
            "3  35428                             hate see peopl depress       YES\n",
            "4  17374  bright side speak tour come end octob im gonna...       YES\n",
            "\n",
            "\n",
            "----SVM------\n",
            "Confusion matrix SVM:\n",
            " [[2727  324]\n",
            " [ 317 3995]]\n"
          ]
        },
        {
          "name": "stderr",
          "output_type": "stream",
          "text": [
            "/usr/local/lib/python3.7/dist-packages/sklearn/utils/deprecation.py:87: FutureWarning: Function plot_confusion_matrix is deprecated; Function `plot_confusion_matrix` is deprecated in 1.0 and will be removed in 1.2. Use one of the class methods: ConfusionMatrixDisplay.from_predictions or ConfusionMatrixDisplay.from_estimator.\n",
            "  warnings.warn(msg, category=FutureWarning)\n"
          ]
        },
        {
          "data": {
            "image/png": "[encoded data removed]",
            "text/plain": [
              "<Figure size 432x288 with 2 Axes>"
            ]
          },
          "metadata": {},
          "output_type": "display_data"
        },
        {
          "name": "stdout",
          "output_type": "stream",
          "text": [
            "Accuracy score for SVM:  91.29\n",
            "\n",
            "\n",
            "-----------Logistic Regression-----\n",
            "Confusion matrix Logistic Regression:\n",
            " [[2682  369]\n",
            " [ 336 3976]]\n"
          ]
        },
        {
          "name": "stderr",
          "output_type": "stream",
          "text": [
            "/usr/local/lib/python3.7/dist-packages/sklearn/utils/deprecation.py:87: FutureWarning: Function plot_confusion_matrix is deprecated; Function `plot_confusion_matrix` is deprecated in 1.0 and will be removed in 1.2. Use one of the class methods: ConfusionMatrixDisplay.from_predictions or ConfusionMatrixDisplay.from_estimator.\n",
            "  warnings.warn(msg, category=FutureWarning)\n"
          ]
        },
        {
          "data": {
            "image/png": "[encoded data removed]",
            "text/plain": [
              "<Figure size 432x288 with 2 Axes>"
            ]
          },
          "metadata": {},
          "output_type": "display_data"
        },
        {
          "name": "stdout",
          "output_type": "stream",
          "text": [
            "Accuracy score for Logistic regression:  90.43\n",
            "\n",
            "\n",
            "--------Decision Tree------------\n",
            "Confusion matrix Decision Tree:\n",
            " [[2662  389]\n",
            " [ 463 3849]]\n"
          ]
        },
        {
          "name": "stderr",
          "output_type": "stream",
          "text": [
            "/usr/local/lib/python3.7/dist-packages/sklearn/utils/deprecation.py:87: FutureWarning: Function plot_confusion_matrix is deprecated; Function `plot_confusion_matrix` is deprecated in 1.0 and will be removed in 1.2. Use one of the class methods: ConfusionMatrixDisplay.from_predictions or ConfusionMatrixDisplay.from_estimator.\n",
            "  warnings.warn(msg, category=FutureWarning)\n"
          ]
        },
        {
          "data": {
            "image/png": "[encoded data removed]",
            "text/plain": [
              "<Figure size 432x288 with 2 Axes>"
            ]
          },
          "metadata": {},
          "output_type": "display_data"
        },
        {
          "name": "stdout",
          "output_type": "stream",
          "text": [
            "Accuracy score for  Decision Tree:  88.43\n",
            "\n",
            "\n",
            "\n"
          ]
        },
        {
          "data": {
            "image/png": "[encoded data removed]",
            "text/plain": [
              "<Figure size 432x288 with 1 Axes>"
            ]
          },
          "metadata": {},
          "output_type": "display_data"
        },
        {
          "data": {
            "text/plain": [
              "<Figure size 1080x1080 with 0 Axes>"
            ]
          },
          "metadata": {},
          "output_type": "display_data"
        },
        {
          "name": "stdout",
          "output_type": "stream",
          "text": [
            "\n",
            "\n",
            "\n",
            "\n",
            "\n",
            "----SVM------\n",
            "Confusion matrix SVM:\n",
            " [[2727  324]\n",
            " [ 317 3995]]\n"
          ]
        },
        {
          "name": "stderr",
          "output_type": "stream",
          "text": [
            "/usr/local/lib/python3.7/dist-packages/sklearn/utils/deprecation.py:87: FutureWarning: Function plot_confusion_matrix is deprecated; Function `plot_confusion_matrix` is deprecated in 1.0 and will be removed in 1.2. Use one of the class methods: ConfusionMatrixDisplay.from_predictions or ConfusionMatrixDisplay.from_estimator.\n",
            "  warnings.warn(msg, category=FutureWarning)\n"
          ]
        },
        {
          "data": {
            "image/png": "[encoded data removed]",
            "text/plain": [
              "<Figure size 432x288 with 2 Axes>"
            ]
          },
          "metadata": {},
          "output_type": "display_data"
        },
        {
          "name": "stdout",
          "output_type": "stream",
          "text": [
            "Accuracy score for SVM:  91.29\n",
            "\n",
            "\n",
            " Model accuracy:  91.29\n",
            "\n",
            "\n",
            " [[2727  324]\n",
            " [ 317 3995]]\n"
          ]
        }
      ],
      "source": [
        "\n",
        "\n",
        "import pandas as pd\n",
        "from sklearn import metrics\n",
        "from sklearn.metrics import confusion_matrix \n",
        "from sklearn.metrics import accuracy_score     \n",
        "from sklearn.metrics import plot_confusion_matrix\n",
        "\n",
        "\n",
        "# to save or to load model\n",
        "import joblib\n",
        "\n",
        "svmout=0\n",
        "lrout=0\n",
        "dtout=0\n",
        "\n",
        "## SVM\n",
        "def train_svm(X_train, X_test, y_train, y_test):\n",
        "    \n",
        "    from sklearn import svm \n",
        "    svm = svm.SVC(C=1000)\n",
        "    \n",
        "    # training svm model\n",
        "    svm.fit(X_train, y_train)\n",
        "    \n",
        "    print(\"\\n\\n----SVM------\")\n",
        "    y_pred = svm.predict(X_test)\n",
        "    print(\"Confusion matrix SVM:\\n\", confusion_matrix(y_test, y_pred))\n",
        "\n",
        "    plot_confusion_matrix(svm, X_test, y_test)  \n",
        "    plt.show()\n",
        "\n",
        "    svmout=round((accuracy_score(y_test, y_pred) * 100),2)\n",
        "    # calculate the accuracy\n",
        "    print(\"Accuracy score for SVM: \", round((accuracy_score(y_test, y_pred) * 100),2))\n",
        "\n",
        "    return svm, svmout\n",
        "\n",
        "    \n",
        "    \n",
        "## Logistic regression\n",
        "def train_logistic_regression(X_train, X_test, y_train, y_test):\n",
        "    from sklearn.linear_model import LogisticRegression \n",
        "    # Create an instance of the model. \n",
        "    logreg = LogisticRegression() \n",
        "    # Training the model. \n",
        "    logreg.fit(X_train,y_train)\n",
        "    \n",
        "    #Do prediction. \n",
        "    y_pred=logreg.predict(X_test)\n",
        "    \n",
        "    print(\"\\n\\n-----------Logistic Regression-----\")\n",
        "    print(\"Confusion matrix Logistic Regression:\\n\",confusion_matrix(y_test, y_pred))\n",
        "    \n",
        "    plot_confusion_matrix(logreg, X_test, y_test)  \n",
        "    plt.show()\n",
        "\n",
        "    lrout=round((accuracy_score(y_test, y_pred) * 100),2)\n",
        "    # calculate the accuracy    \n",
        "    print(\"Accuracy score for Logistic regression: \", round((accuracy_score(y_test, y_pred) * 100),2))\n",
        "    return logreg, lrout\n",
        "\n",
        "\n",
        "\n",
        "## Decision Tree\n",
        "def train_decision_tree(X_train, X_test, y_train, y_test):\n",
        "    from sklearn.tree import DecisionTreeClassifier\n",
        "    model = DecisionTreeClassifier()\n",
        "    model.fit(X_train, y_train)\n",
        "    \n",
        "\n",
        "    y_pred = model.predict(X_test)\n",
        "    print(\"\\n\\n--------Decision Tree------------\")\n",
        "    print(\"Confusion matrix Decision Tree:\\n\",confusion_matrix(y_test, y_pred))\n",
        "\n",
        "    plot_confusion_matrix(model, X_test, y_test)  \n",
        "    plt.show()\n",
        "\n",
        "    dtout= round((accuracy_score(y_test, y_pred) * 100),2)\n",
        "    print(\"Accuracy score for  Decision Tree: \", round((accuracy_score(y_test, y_pred) * 100),2))\n",
        "    return model, dtout\n",
        "\n",
        "\n",
        "\n",
        "\n",
        "\n",
        "# training ML Model \n",
        "# df = pd.read_csv(\"data//preprocessed_input_data.csv\")\n",
        "df = pd.read_csv(PREPROCESSED_INPUT_TRAINING_DATA)\n",
        "df = df.dropna()\n",
        "print(df.head())\n",
        "\n",
        "# training the vectorizer (conveet text data to number data)\n",
        "from sklearn.feature_extraction.text import TfidfVectorizer\n",
        "vectorizer = TfidfVectorizer()\n",
        "X = vectorizer.fit_transform(df['tweet'].values )\n",
        "y = df['depressed'].values\n",
        "\n",
        "#save vectorizer object to vectorize user tweets later\n",
        "# joblib.dump(vectorizer, 'vectorizer.pkl')\n",
        "joblib.dump(vectorizer, VECTORIZER_FILE)\n",
        "\n",
        "\n",
        "# train test split\n",
        "from sklearn.model_selection import train_test_split\n",
        "X_train, X_test, y_train, y_test = train_test_split(X, y, test_size = 0.2, random_state = 42)\n",
        "\n",
        "\n",
        "\n",
        "# checking accruacy of SVM\n",
        "svm_model, svmout = train_svm(X_train, X_test, y_train, y_test)\n",
        "\n",
        "# checking accuracy of Logistic Regression\n",
        "lr_model, lrout = train_logistic_regression(X_train, X_test, y_train, y_test)\n",
        "\n",
        "# checking accuracy of Decision Tree Algorithm\n",
        "dt_model, dtout = train_decision_tree(X_train, X_test, y_train, y_test)\n",
        "\n",
        "\n",
        "\n",
        "#PLOTING\n",
        "\n",
        "# data = {'SVM':svmout, 'Logistic Regression':lrout, 'Decision Tree':dtout}\n",
        "# courses = list(data.keys())\n",
        "# values = list(data.values())\n",
        "\n",
        "# fig = plt.figure(figsize = (10, 5))\n",
        "# # creating the bar plot\n",
        "# plt.bar(courses, values, color ='maroon',\n",
        "# \t\twidth = 0.4)\n",
        "# plt.xlabel(\"Tweet\")\n",
        "# plt.ylabel(\"No. of tweets\")\n",
        "# plt.title(\"Depression Analysis\")\n",
        "# plt.show()\n",
        "\n",
        "x = ['SVM', 'Logistic Regression', 'Decision Tree']\n",
        "y = [svmout, lrout, dtout]\n",
        "color = ['red', 'blue', 'green']\n",
        "bars = plt.bar(x, height=y, color=color, width=.5)\n",
        "xlocs, xlabs = plt.xticks()\n",
        "# reference x so you don't need to change the range each time x changes\n",
        "xlocs=[i for i in x]\n",
        "xlabs=[i for i in x]\n",
        "plt.xlabel('Model')\n",
        "plt.ylabel('Accuracy %')\n",
        "plt.xticks(xlocs, xlabs)\n",
        "plt.title(\"Depression Analysis\")\n",
        "\n",
        "print(\"\\n\\n\")\n",
        "for bar in bars:\n",
        "    yval = bar.get_height()\n",
        "    plt.text(bar.get_x(), yval + .5, yval)\n",
        "\n",
        "plt.figure(figsize=(15, 15))\n",
        "plt.show()\n",
        "\n",
        "print(\"\\n\\n\")\n",
        "\n",
        "\n",
        "#  choose SVM Regression based on high accuracy score\n",
        "model, accuracy_final = train_svm(X_train, X_test, y_train, y_test)\n",
        "\n",
        "\n",
        "# Save the model as a pickle in a file at given location \"model.pkl\"\n",
        "#joblib.dump(model, 'model.pkl')\n",
        "joblib.dump(model, MODEL_FILE)\n",
        "\n",
        "\n",
        "# Load/Read the model from the file at given location \"model.pkl\"\n",
        "# classification_model = joblib.load('model.pkl')\n",
        "classification_model = joblib.load(MODEL_FILE)\n",
        "\n",
        "# predicting the model on test data\n",
        "y_pred=classification_model.predict(X_test)\n",
        "\n",
        "# calculate the accuracy    \n",
        "print(\"\\n\\n Model accuracy: \", round((accuracy_score(y_test, y_pred) * 100), 2))\n",
        "\n",
        "print(\"\\n\\n\", confusion_matrix(y_test, y_pred))\n",
        "\n",
        "\n",
        "\n"
      ]
    },
    {
      "cell_type": "code",
      "execution_count": null,
      "metadata": {
        "id": "RSuxIzzD7qZE"
      },
      "outputs": [],
      "source": [
        "#PREDICT TWEETS\n",
        "# twitter dataset scraping based on keyword\n",
        "\n",
        "import re \n",
        "import numpy as np\n",
        "import tweepy \n",
        "from tweepy import OAuthHandler \n",
        "from textblob import TextBlob \n",
        "\n",
        "import pandas as pd\n",
        "from wordcloud import WordCloud\n",
        "from better_profanity import profanity\n",
        "import configparser\n",
        "\n",
        "import joblib\n",
        "\n",
        "def download_user_tweets():\n",
        "    # set twitter credentials   \n",
        "    api_key = '850YrbsNWucByH06cbS6Ao6xy'\n",
        "    api_key_secret = 'lYmg13QM5MzjaN0xs0IxR12B1FvLDCLc2rnQ2cXfgScETEWWp5'\n",
        "    access_token = '1580202146255220736-Nca2hdTr9quLSwjh3QIOZSEjyQ8p9a'\n",
        "    access_token_secret = 'ivF4kpe9VZSy1Os68iF3mJm3TvXjHpHB2o8dYcIc1MTM9'\n",
        "    \n",
        "    # Access Twitter Data (login to twitter via api) \n",
        "    auth = tweepy.OAuthHandler(api_key, api_key_secret)\n",
        "    auth.set_access_token(access_token, access_token_secret)\n",
        "    api = tweepy.API(auth)\n",
        "    \n",
        "    # read configs\n",
        "    # config = configparser.ConfigParser()\n",
        "    # config.read('config.ini')   \n",
        "    # consumer_key = config['twitter']['api_key']\n",
        "    # consumer_secret = config['twitter']['api_key_secret']   \n",
        "    # access_token = config['twitter']['access_token']\n",
        "    # access_token_secret = config['twitter']['access_token_secret']    \n",
        "    # authentication\n",
        "    # auth = tweepy.OAuthHandler(api_key, api_key_secret)\n",
        "    # auth.set_access_token(access_token, access_token_secret)  \n",
        "    # api = tweepy.API(auth)\n",
        "    \n",
        "    # user tweets\n",
        "    user = input(\"Enter Twitter username:\").strip()\n",
        "    if len(user)<=1:\n",
        "        user = 'elonmusk'\n",
        "    limit=50\n",
        "    \n",
        "    tweets = tweepy.Cursor(api.user_timeline, screen_name=user, count=200, tweet_mode='extended').items(limit)\n",
        "    \n",
        "    # tweets = api.user_timeline(screen_name=user, count=limit, tweet_mode='extended')\n",
        "    \n",
        "    # create DataFrame\n",
        "    columns = ['User', 'tweet']\n",
        "    data = []\n",
        "    \n",
        "    for tweet in tweets:\n",
        "        data.append([tweet.user.screen_name, tweet.full_text])\n",
        "    \n",
        "    df = pd.DataFrame(data, columns=columns)\n",
        "    \n",
        "#     print(df.head())\n",
        "#     print(\"\\n\\n\")\n",
        "    # save user tweets to csv\n",
        "#     print(\"LOGGER: saving user tweets to : \", USER_TWEET_DATA_FILE)\n",
        "    df.to_csv(USER_TWEET_DATA_FILE, index=False)\n",
        "\n",
        "    return df\n",
        "\n",
        "\n",
        "def predict_user_tweets(df):\n",
        "    \n",
        "    # user tweet preprocessing using NLP : nltk\n",
        "\n",
        "    df['tweet'] = df['tweet'].astype(str)\n",
        "    #remove leading and ending whitespaces\n",
        "    df['tweet'] = df['tweet'].str.strip()\n",
        "\n",
        "    # keep only alphabets\n",
        "    df['tweet'] = df['tweet'].apply(keep_alpha)\n",
        "\n",
        "    # nlp preprocessing to remove stopwords and get base/stem form of each word\n",
        "    df['tweet'] = df['tweet'].apply(nlp_preprocessing)\n",
        "    df['tweet'] = df['tweet'].str.strip()\n",
        "\n",
        "    # replace empty rows with NAN and then drop them\n",
        "    df['tweet'].replace('', np.nan, inplace=True)\n",
        "    df = df.dropna()\n",
        "    df = df.reset_index(drop=True)\n",
        "    \n",
        "    vectorizer = joblib.load(VECTORIZER_FILE)\n",
        "    X_test = vectorizer.transform(df['tweet'].values )\n",
        "    \n",
        "    # Load/Read the model from the file at given location \"model.pkl\"\n",
        "    # classification_model = joblib.load('model.pkl')\n",
        "    classification_model = joblib.load(MODEL_FILE)\n",
        "    \n",
        "    # predicting the model on user test data\n",
        "    y_pred=classification_model.predict(X_test)\n",
        "    \n",
        "#     print(y_pred)\n",
        "    df['prediction'] = y_pred\n",
        "    print(df[['tweet', 'prediction']])\n",
        "    return list(y_pred)\n",
        "\n",
        "\n",
        "def final_output(predictions):\n",
        "    total = len(predictions)\n",
        "    depressed_count = predictions.count(\"YES\")\n",
        "    \n",
        "    print(\"\\n\\n\")\n",
        "    \n",
        "    if depressed_count > (total*.6):\n",
        "        print(\"Result: DEPRESSED 😒\")\n",
        "    else:\n",
        "        print(\"Result: NOT DEPRESSED 😊\")\n",
        "\n",
        "user_tweets = download_user_tweets()\n",
        "predictions = predict_user_tweets(user_tweets)\n",
        "final_output(predictions)"
      ]
    }
  ],
  "metadata": {
    "colab": {
      "provenance": []
    },
    "kernelspec": {
      "display_name": "Python 3",
      "name": "python3"
    },
    "language_info": {
      "name": "python"
    }
  },
  "nbformat": 4,
  "nbformat_minor": 0
}